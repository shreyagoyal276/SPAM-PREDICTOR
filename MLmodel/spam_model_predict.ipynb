<<<<<<< HEAD
{
 "cells": [
  {
   "cell_type": "code",
   "execution_count": 1,
   "metadata": {},
   "outputs": [],
   "source": [
    "import pandas as pd"
   ]
  },
  {
   "cell_type": "code",
   "execution_count": 2,
   "metadata": {},
   "outputs": [
    {
     "data": {
      "text/html": [
       "<div>\n",
       "<style scoped>\n",
       "    .dataframe tbody tr th:only-of-type {\n",
       "        vertical-align: middle;\n",
       "    }\n",
       "\n",
       "    .dataframe tbody tr th {\n",
       "        vertical-align: top;\n",
       "    }\n",
       "\n",
       "    .dataframe thead th {\n",
       "        text-align: right;\n",
       "    }\n",
       "</style>\n",
       "<table border=\"1\" class=\"dataframe\">\n",
       "  <thead>\n",
       "    <tr style=\"text-align: right;\">\n",
       "      <th></th>\n",
       "      <th>Label</th>\n",
       "      <th>Message</th>\n",
       "    </tr>\n",
       "  </thead>\n",
       "  <tbody>\n",
       "    <tr>\n",
       "      <th>0</th>\n",
       "      <td>spam</td>\n",
       "      <td>Deposit 0.01 BTC and get 10x back instantly: h...</td>\n",
       "    </tr>\n",
       "    <tr>\n",
       "      <th>1</th>\n",
       "      <td>spam</td>\n",
       "      <td>Invoice #44312 needs payment today. See detail...</td>\n",
       "    </tr>\n",
       "    <tr>\n",
       "      <th>2</th>\n",
       "      <td>ham</td>\n",
       "      <td>Have you seen the updated incident response flow?</td>\n",
       "    </tr>\n",
       "    <tr>\n",
       "      <th>3</th>\n",
       "      <td>ham</td>\n",
       "      <td>Don't forget the phishing awareness webinar on...</td>\n",
       "    </tr>\n",
       "    <tr>\n",
       "      <th>4</th>\n",
       "      <td>ham</td>\n",
       "      <td>I'm uploading the Q1 security audit report now.</td>\n",
       "    </tr>\n",
       "  </tbody>\n",
       "</table>\n",
       "</div>"
      ],
      "text/plain": [
       "  Label                                            Message\n",
       "0  spam  Deposit 0.01 BTC and get 10x back instantly: h...\n",
       "1  spam  Invoice #44312 needs payment today. See detail...\n",
       "2   ham  Have you seen the updated incident response flow?\n",
       "3   ham  Don't forget the phishing awareness webinar on...\n",
       "4   ham    I'm uploading the Q1 security audit report now."
      ]
     },
     "execution_count": 2,
     "metadata": {},
     "output_type": "execute_result"
    }
   ],
   "source": [
    "df1= pd.read_csv(\"spam_cyber_crime.csv\")\n",
    "df2= pd.read_csv(\"spam.csv\")\n",
    "df= pd.concat([df1,df2],ignore_index=True)\n",
    "df.head()"
   ]
  },
  {
   "cell_type": "code",
   "execution_count": 3,
   "metadata": {},
   "outputs": [
    {
     "data": {
      "text/html": [
       "<div>\n",
       "<style scoped>\n",
       "    .dataframe tbody tr th:only-of-type {\n",
       "        vertical-align: middle;\n",
       "    }\n",
       "\n",
       "    .dataframe tbody tr th {\n",
       "        vertical-align: top;\n",
       "    }\n",
       "\n",
       "    .dataframe thead th {\n",
       "        text-align: right;\n",
       "    }\n",
       "</style>\n",
       "<table border=\"1\" class=\"dataframe\">\n",
       "  <thead>\n",
       "    <tr style=\"text-align: right;\">\n",
       "      <th></th>\n",
       "      <th>Label</th>\n",
       "      <th>Message</th>\n",
       "    </tr>\n",
       "  </thead>\n",
       "  <tbody>\n",
       "    <tr>\n",
       "      <th>0</th>\n",
       "      <td>1</td>\n",
       "      <td>Deposit 0.01 BTC and get 10x back instantly: h...</td>\n",
       "    </tr>\n",
       "    <tr>\n",
       "      <th>1</th>\n",
       "      <td>1</td>\n",
       "      <td>Invoice #44312 needs payment today. See detail...</td>\n",
       "    </tr>\n",
       "    <tr>\n",
       "      <th>2</th>\n",
       "      <td>0</td>\n",
       "      <td>Have you seen the updated incident response flow?</td>\n",
       "    </tr>\n",
       "    <tr>\n",
       "      <th>3</th>\n",
       "      <td>0</td>\n",
       "      <td>Don't forget the phishing awareness webinar on...</td>\n",
       "    </tr>\n",
       "    <tr>\n",
       "      <th>4</th>\n",
       "      <td>0</td>\n",
       "      <td>I'm uploading the Q1 security audit report now.</td>\n",
       "    </tr>\n",
       "  </tbody>\n",
       "</table>\n",
       "</div>"
      ],
      "text/plain": [
       "   Label                                            Message\n",
       "0      1  Deposit 0.01 BTC and get 10x back instantly: h...\n",
       "1      1  Invoice #44312 needs payment today. See detail...\n",
       "2      0  Have you seen the updated incident response flow?\n",
       "3      0  Don't forget the phishing awareness webinar on...\n",
       "4      0    I'm uploading the Q1 security audit report now."
      ]
     },
     "execution_count": 3,
     "metadata": {},
     "output_type": "execute_result"
    }
   ],
   "source": [
    "df['Label']= df['Label'].map({\"ham\":0,\"spam\":1})\n",
    "df.head()"
   ]
  },
  {
   "cell_type": "code",
   "execution_count": 4,
   "metadata": {},
   "outputs": [],
   "source": [
    "#pip install nltk"
   ]
  },
  {
   "cell_type": "code",
   "execution_count": 5,
   "metadata": {},
   "outputs": [
    {
     "name": "stderr",
     "output_type": "stream",
     "text": [
      "[nltk_data] Downloading package punkt to\n",
      "[nltk_data]     C:\\Users\\Lenovo\\AppData\\Roaming\\nltk_data...\n",
      "[nltk_data]   Package punkt is already up-to-date!\n",
      "[nltk_data] Downloading package punkt_tab to\n",
      "[nltk_data]     C:\\Users\\Lenovo\\AppData\\Roaming\\nltk_data...\n",
      "[nltk_data]   Package punkt_tab is already up-to-date!\n",
      "[nltk_data] Downloading package stopwords to\n",
      "[nltk_data]     C:\\Users\\Lenovo\\AppData\\Roaming\\nltk_data...\n",
      "[nltk_data]   Package stopwords is already up-to-date!\n",
      "[nltk_data] Downloading package wordnet to\n",
      "[nltk_data]     C:\\Users\\Lenovo\\AppData\\Roaming\\nltk_data...\n",
      "[nltk_data]   Package wordnet is already up-to-date!\n"
     ]
    },
    {
     "data": {
      "text/plain": [
       "True"
      ]
     },
     "execution_count": 5,
     "metadata": {},
     "output_type": "execute_result"
    }
   ],
   "source": [
    "import nltk\n",
    "nltk.download('punkt')\n",
    "nltk.download('punkt_tab')\n",
    "nltk.download('stopwords')\n",
    "nltk.download('wordnet')\n"
   ]
  },
  {
   "cell_type": "code",
   "execution_count": 6,
   "metadata": {},
   "outputs": [
    {
     "data": {
      "text/plain": [
       "'write'"
      ]
     },
     "execution_count": 6,
     "metadata": {},
     "output_type": "execute_result"
    }
   ],
   "source": [
    "from nltk.tokenize import word_tokenize\n",
    "from nltk.corpus import stopwords\n",
    "from nltk.stem.porter import PorterStemmer\n",
    "ps=PorterStemmer()\n",
    "ps.stem(\"writing\")"
   ]
  },
  {
   "cell_type": "code",
   "execution_count": 7,
   "metadata": {},
   "outputs": [
    {
     "name": "stdout",
     "output_type": "stream",
     "text": [
      "['HELLO', '!', '!', 'I', 'am', 'Shreya', 'GOyal', ',', 're416']\n"
     ]
    }
   ],
   "source": [
    "token= word_tokenize(\"HELLO!! I am Shreya GOyal, re416\")\n",
    "print(token)"
   ]
  },
  {
   "cell_type": "code",
   "execution_count": 8,
   "metadata": {},
   "outputs": [
    {
     "name": "stdout",
     "output_type": "stream",
     "text": [
      "{'been', 'your', 'after', 'above', 'here', 'once', \"shouldn't\", 'yourself', 'it', 'they', \"needn't\", 'll', 'will', 'mustn', 'before', 'only', 'under', 'this', 'her', 'too', 'off', 'she', \"she'd\", 'now', \"we'll\", \"it's\", 'any', 'myself', 'm', \"hadn't\", \"couldn't\", \"i'd\", 'and', 'itself', 'ourselves', 'you', 'few', 'yours', 'then', 'such', 'more', 'have', 'be', 'don', 'into', 'wasn', 'didn', 'him', 'shan', 'of', \"didn't\", 'about', \"he'd\", 'me', 'am', 'the', 'shouldn', \"you'd\", \"shan't\", 'which', \"wasn't\", 'that', 'those', \"i'll\", 'below', 'nor', 'needn', 'down', 'he', 'to', 'what', 'during', \"we're\", 'himself', \"he's\", 'hers', 'ours', 'than', 'or', 'its', 'wouldn', 'up', \"i'm\", 'at', 'ma', 'so', 'no', 'herself', 'doesn', 'each', \"that'll\", \"wouldn't\", 'with', 'where', 'themselves', 'does', \"hasn't\", 'won', 'hadn', 'while', \"don't\", 'a', 'on', \"won't\", 'against', 'hasn', 'are', 'i', \"they've\", 'them', 'being', 'did', \"haven't\", 'y', 'yourselves', 'couldn', 'all', \"it'll\", 'theirs', 'in', 'an', 'for', 'is', \"she's\", 't', \"we've\", \"you've\", 'again', 'own', 're', \"they're\", \"it'd\", 'who', 'weren', \"he'll\", 's', 'because', \"you're\", 'some', \"aren't\", 'from', 'when', 'same', 'whom', \"they'll\", 'o', 'my', \"isn't\", 'their', 've', \"we'd\", 'haven', 'having', 'how', 'has', 'through', 'as', \"mustn't\", \"weren't\", 'most', \"doesn't\", 'doing', 'had', 'mightn', \"mightn't\", 'was', 'if', 'over', 'isn', 'not', 'very', 'these', 'we', 'were', 'but', 'should', 'both', 'further', 'd', 'our', 'other', \"they'd\", 'just', 'his', 'between', \"i've\", 'why', 'out', 'until', \"you'll\", 'by', 'can', 'aren', 'do', 'ain', \"she'll\", \"should've\", 'there'}\n"
     ]
    }
   ],
   "source": [
    "stop_words= set(stopwords.words(\"english\"))\n",
    "print(stop_words)"
   ]
  },
  {
   "cell_type": "code",
   "execution_count": 9,
   "metadata": {},
   "outputs": [
    {
     "data": {
      "text/plain": [
       "'!\"#$%&\\'()*+,-./:;<=>?@[\\\\]^_`{|}~'"
      ]
     },
     "execution_count": 9,
     "metadata": {},
     "output_type": "execute_result"
    }
   ],
   "source": [
    "import string\n",
    "string.punctuation"
   ]
  },
  {
   "cell_type": "code",
   "execution_count": 10,
   "metadata": {},
   "outputs": [
    {
     "data": {
      "text/plain": [
       "'hello shreya goyal write writer write re416'"
      ]
     },
     "execution_count": 10,
     "metadata": {},
     "output_type": "execute_result"
    }
   ],
   "source": [
    "\n",
    "def transform_text(text):\n",
    "    text= text.lower()\n",
    "    text= word_tokenize(text)\n",
    "\n",
    "    y=[]\n",
    "    for i in text:\n",
    "        if i.isalnum():\n",
    "            y.append(i)\n",
    "\n",
    "    text=y[:]\n",
    "    y.clear()\n",
    "\n",
    "    \n",
    "\n",
    "    for i in text:\n",
    "        if i not in stopwords.words('english') and i not in string.punctuation:\n",
    "            y.append(i)\n",
    "\n",
    "    text=y[:]\n",
    "    y.clear()\n",
    "\n",
    "    for i in text:\n",
    "        y.append(ps.stem(i))\n",
    "    \n",
    "    return \" \".join(y)\n",
    "    \n",
    "transform_text(\"HELLO!! I am Shreya GOyal writing writer writes, re416\")\n",
    "        "
   ]
  },
  {
   "cell_type": "code",
   "execution_count": 11,
   "metadata": {},
   "outputs": [],
   "source": [
    "#cleaning data"
   ]
  },
  {
   "cell_type": "code",
   "execution_count": 12,
   "metadata": {},
   "outputs": [],
   "source": [
    "df['Message']=df['Message'].apply(transform_text)"
   ]
  },
  {
   "cell_type": "code",
   "execution_count": 13,
   "metadata": {},
   "outputs": [],
   "source": [
    "from sklearn.model_selection import train_test_split\n",
    "x_train,x_test,y_train,y_test=train_test_split(df['Message'],df['Label'],test_size=0.2)"
   ]
  },
  {
   "cell_type": "code",
   "execution_count": 14,
   "metadata": {},
   "outputs": [
    {
     "name": "stdout",
     "output_type": "stream",
     "text": [
      "6085\n",
      "1522\n",
      "1522\n"
     ]
    }
   ],
   "source": [
    "print(len(x_train))\n",
    "print(len(x_test))\n",
    "print(len(y_test))\n"
   ]
  },
  {
   "cell_type": "code",
   "execution_count": 15,
   "metadata": {},
   "outputs": [
    {
     "data": {
      "text/plain": [
       "(6085, 5000)"
      ]
     },
     "execution_count": 15,
     "metadata": {},
     "output_type": "execute_result"
    }
   ],
   "source": [
    "from sklearn.feature_extraction.text import TfidfVectorizer\n",
    "vectorizer = TfidfVectorizer(max_features=5000)\n",
    "x_train_tfidf= vectorizer.fit_transform(x_train)\n",
    "x_train_tfidf.shape"
   ]
  },
  {
   "cell_type": "code",
   "execution_count": 16,
   "metadata": {},
   "outputs": [
    {
     "data": {
      "text/plain": [
       "(1522, 5000)"
      ]
     },
     "execution_count": 16,
     "metadata": {},
     "output_type": "execute_result"
    }
   ],
   "source": [
    "x_test_tfidf= vectorizer.transform(x_test)\n",
    "x_test_tfidf.shape"
   ]
  },
  {
   "cell_type": "code",
   "execution_count": 17,
   "metadata": {},
   "outputs": [],
   "source": [
    "from sklearn.linear_model import LogisticRegression\n",
    "model= LogisticRegression()"
   ]
  },
  {
   "cell_type": "code",
   "execution_count": 18,
   "metadata": {},
   "outputs": [
    {
     "data": {
      "text/html": [
       "<style>#sk-container-id-1 {\n",
       "  /* Definition of color scheme common for light and dark mode */\n",
       "  --sklearn-color-text: #000;\n",
       "  --sklearn-color-text-muted: #666;\n",
       "  --sklearn-color-line: gray;\n",
       "  /* Definition of color scheme for unfitted estimators */\n",
       "  --sklearn-color-unfitted-level-0: #fff5e6;\n",
       "  --sklearn-color-unfitted-level-1: #f6e4d2;\n",
       "  --sklearn-color-unfitted-level-2: #ffe0b3;\n",
       "  --sklearn-color-unfitted-level-3: chocolate;\n",
       "  /* Definition of color scheme for fitted estimators */\n",
       "  --sklearn-color-fitted-level-0: #f0f8ff;\n",
       "  --sklearn-color-fitted-level-1: #d4ebff;\n",
       "  --sklearn-color-fitted-level-2: #b3dbfd;\n",
       "  --sklearn-color-fitted-level-3: cornflowerblue;\n",
       "\n",
       "  /* Specific color for light theme */\n",
       "  --sklearn-color-text-on-default-background: var(--sg-text-color, var(--theme-code-foreground, var(--jp-content-font-color1, black)));\n",
       "  --sklearn-color-background: var(--sg-background-color, var(--theme-background, var(--jp-layout-color0, white)));\n",
       "  --sklearn-color-border-box: var(--sg-text-color, var(--theme-code-foreground, var(--jp-content-font-color1, black)));\n",
       "  --sklearn-color-icon: #696969;\n",
       "\n",
       "  @media (prefers-color-scheme: dark) {\n",
       "    /* Redefinition of color scheme for dark theme */\n",
       "    --sklearn-color-text-on-default-background: var(--sg-text-color, var(--theme-code-foreground, var(--jp-content-font-color1, white)));\n",
       "    --sklearn-color-background: var(--sg-background-color, var(--theme-background, var(--jp-layout-color0, #111)));\n",
       "    --sklearn-color-border-box: var(--sg-text-color, var(--theme-code-foreground, var(--jp-content-font-color1, white)));\n",
       "    --sklearn-color-icon: #878787;\n",
       "  }\n",
       "}\n",
       "\n",
       "#sk-container-id-1 {\n",
       "  color: var(--sklearn-color-text);\n",
       "}\n",
       "\n",
       "#sk-container-id-1 pre {\n",
       "  padding: 0;\n",
       "}\n",
       "\n",
       "#sk-container-id-1 input.sk-hidden--visually {\n",
       "  border: 0;\n",
       "  clip: rect(1px 1px 1px 1px);\n",
       "  clip: rect(1px, 1px, 1px, 1px);\n",
       "  height: 1px;\n",
       "  margin: -1px;\n",
       "  overflow: hidden;\n",
       "  padding: 0;\n",
       "  position: absolute;\n",
       "  width: 1px;\n",
       "}\n",
       "\n",
       "#sk-container-id-1 div.sk-dashed-wrapped {\n",
       "  border: 1px dashed var(--sklearn-color-line);\n",
       "  margin: 0 0.4em 0.5em 0.4em;\n",
       "  box-sizing: border-box;\n",
       "  padding-bottom: 0.4em;\n",
       "  background-color: var(--sklearn-color-background);\n",
       "}\n",
       "\n",
       "#sk-container-id-1 div.sk-container {\n",
       "  /* jupyter's `normalize.less` sets `[hidden] { display: none; }`\n",
       "     but bootstrap.min.css set `[hidden] { display: none !important; }`\n",
       "     so we also need the `!important` here to be able to override the\n",
       "     default hidden behavior on the sphinx rendered scikit-learn.org.\n",
       "     See: https://github.com/scikit-learn/scikit-learn/issues/21755 */\n",
       "  display: inline-block !important;\n",
       "  position: relative;\n",
       "}\n",
       "\n",
       "#sk-container-id-1 div.sk-text-repr-fallback {\n",
       "  display: none;\n",
       "}\n",
       "\n",
       "div.sk-parallel-item,\n",
       "div.sk-serial,\n",
       "div.sk-item {\n",
       "  /* draw centered vertical line to link estimators */\n",
       "  background-image: linear-gradient(var(--sklearn-color-text-on-default-background), var(--sklearn-color-text-on-default-background));\n",
       "  background-size: 2px 100%;\n",
       "  background-repeat: no-repeat;\n",
       "  background-position: center center;\n",
       "}\n",
       "\n",
       "/* Parallel-specific style estimator block */\n",
       "\n",
       "#sk-container-id-1 div.sk-parallel-item::after {\n",
       "  content: \"\";\n",
       "  width: 100%;\n",
       "  border-bottom: 2px solid var(--sklearn-color-text-on-default-background);\n",
       "  flex-grow: 1;\n",
       "}\n",
       "\n",
       "#sk-container-id-1 div.sk-parallel {\n",
       "  display: flex;\n",
       "  align-items: stretch;\n",
       "  justify-content: center;\n",
       "  background-color: var(--sklearn-color-background);\n",
       "  position: relative;\n",
       "}\n",
       "\n",
       "#sk-container-id-1 div.sk-parallel-item {\n",
       "  display: flex;\n",
       "  flex-direction: column;\n",
       "}\n",
       "\n",
       "#sk-container-id-1 div.sk-parallel-item:first-child::after {\n",
       "  align-self: flex-end;\n",
       "  width: 50%;\n",
       "}\n",
       "\n",
       "#sk-container-id-1 div.sk-parallel-item:last-child::after {\n",
       "  align-self: flex-start;\n",
       "  width: 50%;\n",
       "}\n",
       "\n",
       "#sk-container-id-1 div.sk-parallel-item:only-child::after {\n",
       "  width: 0;\n",
       "}\n",
       "\n",
       "/* Serial-specific style estimator block */\n",
       "\n",
       "#sk-container-id-1 div.sk-serial {\n",
       "  display: flex;\n",
       "  flex-direction: column;\n",
       "  align-items: center;\n",
       "  background-color: var(--sklearn-color-background);\n",
       "  padding-right: 1em;\n",
       "  padding-left: 1em;\n",
       "}\n",
       "\n",
       "\n",
       "/* Toggleable style: style used for estimator/Pipeline/ColumnTransformer box that is\n",
       "clickable and can be expanded/collapsed.\n",
       "- Pipeline and ColumnTransformer use this feature and define the default style\n",
       "- Estimators will overwrite some part of the style using the `sk-estimator` class\n",
       "*/\n",
       "\n",
       "/* Pipeline and ColumnTransformer style (default) */\n",
       "\n",
       "#sk-container-id-1 div.sk-toggleable {\n",
       "  /* Default theme specific background. It is overwritten whether we have a\n",
       "  specific estimator or a Pipeline/ColumnTransformer */\n",
       "  background-color: var(--sklearn-color-background);\n",
       "}\n",
       "\n",
       "/* Toggleable label */\n",
       "#sk-container-id-1 label.sk-toggleable__label {\n",
       "  cursor: pointer;\n",
       "  display: flex;\n",
       "  width: 100%;\n",
       "  margin-bottom: 0;\n",
       "  padding: 0.5em;\n",
       "  box-sizing: border-box;\n",
       "  text-align: center;\n",
       "  align-items: start;\n",
       "  justify-content: space-between;\n",
       "  gap: 0.5em;\n",
       "}\n",
       "\n",
       "#sk-container-id-1 label.sk-toggleable__label .caption {\n",
       "  font-size: 0.6rem;\n",
       "  font-weight: lighter;\n",
       "  color: var(--sklearn-color-text-muted);\n",
       "}\n",
       "\n",
       "#sk-container-id-1 label.sk-toggleable__label-arrow:before {\n",
       "  /* Arrow on the left of the label */\n",
       "  content: \"▸\";\n",
       "  float: left;\n",
       "  margin-right: 0.25em;\n",
       "  color: var(--sklearn-color-icon);\n",
       "}\n",
       "\n",
       "#sk-container-id-1 label.sk-toggleable__label-arrow:hover:before {\n",
       "  color: var(--sklearn-color-text);\n",
       "}\n",
       "\n",
       "/* Toggleable content - dropdown */\n",
       "\n",
       "#sk-container-id-1 div.sk-toggleable__content {\n",
       "  max-height: 0;\n",
       "  max-width: 0;\n",
       "  overflow: hidden;\n",
       "  text-align: left;\n",
       "  /* unfitted */\n",
       "  background-color: var(--sklearn-color-unfitted-level-0);\n",
       "}\n",
       "\n",
       "#sk-container-id-1 div.sk-toggleable__content.fitted {\n",
       "  /* fitted */\n",
       "  background-color: var(--sklearn-color-fitted-level-0);\n",
       "}\n",
       "\n",
       "#sk-container-id-1 div.sk-toggleable__content pre {\n",
       "  margin: 0.2em;\n",
       "  border-radius: 0.25em;\n",
       "  color: var(--sklearn-color-text);\n",
       "  /* unfitted */\n",
       "  background-color: var(--sklearn-color-unfitted-level-0);\n",
       "}\n",
       "\n",
       "#sk-container-id-1 div.sk-toggleable__content.fitted pre {\n",
       "  /* unfitted */\n",
       "  background-color: var(--sklearn-color-fitted-level-0);\n",
       "}\n",
       "\n",
       "#sk-container-id-1 input.sk-toggleable__control:checked~div.sk-toggleable__content {\n",
       "  /* Expand drop-down */\n",
       "  max-height: 200px;\n",
       "  max-width: 100%;\n",
       "  overflow: auto;\n",
       "}\n",
       "\n",
       "#sk-container-id-1 input.sk-toggleable__control:checked~label.sk-toggleable__label-arrow:before {\n",
       "  content: \"▾\";\n",
       "}\n",
       "\n",
       "/* Pipeline/ColumnTransformer-specific style */\n",
       "\n",
       "#sk-container-id-1 div.sk-label input.sk-toggleable__control:checked~label.sk-toggleable__label {\n",
       "  color: var(--sklearn-color-text);\n",
       "  background-color: var(--sklearn-color-unfitted-level-2);\n",
       "}\n",
       "\n",
       "#sk-container-id-1 div.sk-label.fitted input.sk-toggleable__control:checked~label.sk-toggleable__label {\n",
       "  background-color: var(--sklearn-color-fitted-level-2);\n",
       "}\n",
       "\n",
       "/* Estimator-specific style */\n",
       "\n",
       "/* Colorize estimator box */\n",
       "#sk-container-id-1 div.sk-estimator input.sk-toggleable__control:checked~label.sk-toggleable__label {\n",
       "  /* unfitted */\n",
       "  background-color: var(--sklearn-color-unfitted-level-2);\n",
       "}\n",
       "\n",
       "#sk-container-id-1 div.sk-estimator.fitted input.sk-toggleable__control:checked~label.sk-toggleable__label {\n",
       "  /* fitted */\n",
       "  background-color: var(--sklearn-color-fitted-level-2);\n",
       "}\n",
       "\n",
       "#sk-container-id-1 div.sk-label label.sk-toggleable__label,\n",
       "#sk-container-id-1 div.sk-label label {\n",
       "  /* The background is the default theme color */\n",
       "  color: var(--sklearn-color-text-on-default-background);\n",
       "}\n",
       "\n",
       "/* On hover, darken the color of the background */\n",
       "#sk-container-id-1 div.sk-label:hover label.sk-toggleable__label {\n",
       "  color: var(--sklearn-color-text);\n",
       "  background-color: var(--sklearn-color-unfitted-level-2);\n",
       "}\n",
       "\n",
       "/* Label box, darken color on hover, fitted */\n",
       "#sk-container-id-1 div.sk-label.fitted:hover label.sk-toggleable__label.fitted {\n",
       "  color: var(--sklearn-color-text);\n",
       "  background-color: var(--sklearn-color-fitted-level-2);\n",
       "}\n",
       "\n",
       "/* Estimator label */\n",
       "\n",
       "#sk-container-id-1 div.sk-label label {\n",
       "  font-family: monospace;\n",
       "  font-weight: bold;\n",
       "  display: inline-block;\n",
       "  line-height: 1.2em;\n",
       "}\n",
       "\n",
       "#sk-container-id-1 div.sk-label-container {\n",
       "  text-align: center;\n",
       "}\n",
       "\n",
       "/* Estimator-specific */\n",
       "#sk-container-id-1 div.sk-estimator {\n",
       "  font-family: monospace;\n",
       "  border: 1px dotted var(--sklearn-color-border-box);\n",
       "  border-radius: 0.25em;\n",
       "  box-sizing: border-box;\n",
       "  margin-bottom: 0.5em;\n",
       "  /* unfitted */\n",
       "  background-color: var(--sklearn-color-unfitted-level-0);\n",
       "}\n",
       "\n",
       "#sk-container-id-1 div.sk-estimator.fitted {\n",
       "  /* fitted */\n",
       "  background-color: var(--sklearn-color-fitted-level-0);\n",
       "}\n",
       "\n",
       "/* on hover */\n",
       "#sk-container-id-1 div.sk-estimator:hover {\n",
       "  /* unfitted */\n",
       "  background-color: var(--sklearn-color-unfitted-level-2);\n",
       "}\n",
       "\n",
       "#sk-container-id-1 div.sk-estimator.fitted:hover {\n",
       "  /* fitted */\n",
       "  background-color: var(--sklearn-color-fitted-level-2);\n",
       "}\n",
       "\n",
       "/* Specification for estimator info (e.g. \"i\" and \"?\") */\n",
       "\n",
       "/* Common style for \"i\" and \"?\" */\n",
       "\n",
       ".sk-estimator-doc-link,\n",
       "a:link.sk-estimator-doc-link,\n",
       "a:visited.sk-estimator-doc-link {\n",
       "  float: right;\n",
       "  font-size: smaller;\n",
       "  line-height: 1em;\n",
       "  font-family: monospace;\n",
       "  background-color: var(--sklearn-color-background);\n",
       "  border-radius: 1em;\n",
       "  height: 1em;\n",
       "  width: 1em;\n",
       "  text-decoration: none !important;\n",
       "  margin-left: 0.5em;\n",
       "  text-align: center;\n",
       "  /* unfitted */\n",
       "  border: var(--sklearn-color-unfitted-level-1) 1pt solid;\n",
       "  color: var(--sklearn-color-unfitted-level-1);\n",
       "}\n",
       "\n",
       ".sk-estimator-doc-link.fitted,\n",
       "a:link.sk-estimator-doc-link.fitted,\n",
       "a:visited.sk-estimator-doc-link.fitted {\n",
       "  /* fitted */\n",
       "  border: var(--sklearn-color-fitted-level-1) 1pt solid;\n",
       "  color: var(--sklearn-color-fitted-level-1);\n",
       "}\n",
       "\n",
       "/* On hover */\n",
       "div.sk-estimator:hover .sk-estimator-doc-link:hover,\n",
       ".sk-estimator-doc-link:hover,\n",
       "div.sk-label-container:hover .sk-estimator-doc-link:hover,\n",
       ".sk-estimator-doc-link:hover {\n",
       "  /* unfitted */\n",
       "  background-color: var(--sklearn-color-unfitted-level-3);\n",
       "  color: var(--sklearn-color-background);\n",
       "  text-decoration: none;\n",
       "}\n",
       "\n",
       "div.sk-estimator.fitted:hover .sk-estimator-doc-link.fitted:hover,\n",
       ".sk-estimator-doc-link.fitted:hover,\n",
       "div.sk-label-container:hover .sk-estimator-doc-link.fitted:hover,\n",
       ".sk-estimator-doc-link.fitted:hover {\n",
       "  /* fitted */\n",
       "  background-color: var(--sklearn-color-fitted-level-3);\n",
       "  color: var(--sklearn-color-background);\n",
       "  text-decoration: none;\n",
       "}\n",
       "\n",
       "/* Span, style for the box shown on hovering the info icon */\n",
       ".sk-estimator-doc-link span {\n",
       "  display: none;\n",
       "  z-index: 9999;\n",
       "  position: relative;\n",
       "  font-weight: normal;\n",
       "  right: .2ex;\n",
       "  padding: .5ex;\n",
       "  margin: .5ex;\n",
       "  width: min-content;\n",
       "  min-width: 20ex;\n",
       "  max-width: 50ex;\n",
       "  color: var(--sklearn-color-text);\n",
       "  box-shadow: 2pt 2pt 4pt #999;\n",
       "  /* unfitted */\n",
       "  background: var(--sklearn-color-unfitted-level-0);\n",
       "  border: .5pt solid var(--sklearn-color-unfitted-level-3);\n",
       "}\n",
       "\n",
       ".sk-estimator-doc-link.fitted span {\n",
       "  /* fitted */\n",
       "  background: var(--sklearn-color-fitted-level-0);\n",
       "  border: var(--sklearn-color-fitted-level-3);\n",
       "}\n",
       "\n",
       ".sk-estimator-doc-link:hover span {\n",
       "  display: block;\n",
       "}\n",
       "\n",
       "/* \"?\"-specific style due to the `<a>` HTML tag */\n",
       "\n",
       "#sk-container-id-1 a.estimator_doc_link {\n",
       "  float: right;\n",
       "  font-size: 1rem;\n",
       "  line-height: 1em;\n",
       "  font-family: monospace;\n",
       "  background-color: var(--sklearn-color-background);\n",
       "  border-radius: 1rem;\n",
       "  height: 1rem;\n",
       "  width: 1rem;\n",
       "  text-decoration: none;\n",
       "  /* unfitted */\n",
       "  color: var(--sklearn-color-unfitted-level-1);\n",
       "  border: var(--sklearn-color-unfitted-level-1) 1pt solid;\n",
       "}\n",
       "\n",
       "#sk-container-id-1 a.estimator_doc_link.fitted {\n",
       "  /* fitted */\n",
       "  border: var(--sklearn-color-fitted-level-1) 1pt solid;\n",
       "  color: var(--sklearn-color-fitted-level-1);\n",
       "}\n",
       "\n",
       "/* On hover */\n",
       "#sk-container-id-1 a.estimator_doc_link:hover {\n",
       "  /* unfitted */\n",
       "  background-color: var(--sklearn-color-unfitted-level-3);\n",
       "  color: var(--sklearn-color-background);\n",
       "  text-decoration: none;\n",
       "}\n",
       "\n",
       "#sk-container-id-1 a.estimator_doc_link.fitted:hover {\n",
       "  /* fitted */\n",
       "  background-color: var(--sklearn-color-fitted-level-3);\n",
       "}\n",
       "</style><div id=\"sk-container-id-1\" class=\"sk-top-container\"><div class=\"sk-text-repr-fallback\"><pre>LogisticRegression()</pre><b>In a Jupyter environment, please rerun this cell to show the HTML representation or trust the notebook. <br />On GitHub, the HTML representation is unable to render, please try loading this page with nbviewer.org.</b></div><div class=\"sk-container\" hidden><div class=\"sk-item\"><div class=\"sk-estimator fitted sk-toggleable\"><input class=\"sk-toggleable__control sk-hidden--visually\" id=\"sk-estimator-id-1\" type=\"checkbox\" checked><label for=\"sk-estimator-id-1\" class=\"sk-toggleable__label fitted sk-toggleable__label-arrow\"><div><div>LogisticRegression</div></div><div><a class=\"sk-estimator-doc-link fitted\" rel=\"noreferrer\" target=\"_blank\" href=\"https://scikit-learn.org/1.6/modules/generated/sklearn.linear_model.LogisticRegression.html\">?<span>Documentation for LogisticRegression</span></a><span class=\"sk-estimator-doc-link fitted\">i<span>Fitted</span></span></div></label><div class=\"sk-toggleable__content fitted\"><pre>LogisticRegression()</pre></div> </div></div></div></div>"
      ],
      "text/plain": [
       "LogisticRegression()"
      ]
     },
     "execution_count": 18,
     "metadata": {},
     "output_type": "execute_result"
    }
   ],
   "source": [
    "model.fit(x_train_tfidf,y_train)"
   ]
  },
  {
   "cell_type": "code",
   "execution_count": 19,
   "metadata": {},
   "outputs": [],
   "source": [
    "y_pred=model.predict(x_test_tfidf)"
   ]
  },
  {
   "cell_type": "code",
   "execution_count": 20,
   "metadata": {},
   "outputs": [],
   "source": [
    "from sklearn.metrics import accuracy_score, precision_score, f1_score, recall_score\n"
   ]
  },
  {
   "cell_type": "code",
   "execution_count": 21,
   "metadata": {},
   "outputs": [
    {
     "name": "stdout",
     "output_type": "stream",
     "text": [
      "0.9842312746386334\n"
     ]
    }
   ],
   "source": [
    "accuracy= accuracy_score(y_test,y_pred)\n",
    "print(accuracy)"
   ]
  },
  {
   "cell_type": "code",
   "execution_count": 22,
   "metadata": {},
   "outputs": [
    {
     "name": "stdout",
     "output_type": "stream",
     "text": [
      "0.9272727272727272\n"
     ]
    }
   ],
   "source": [
    "recall = recall_score(y_test,y_pred)\n",
    "print(recall)"
   ]
  },
  {
   "cell_type": "code",
   "execution_count": 23,
   "metadata": {},
   "outputs": [
    {
     "name": "stdout",
     "output_type": "stream",
     "text": [
      "1.0\n"
     ]
    }
   ],
   "source": [
    "prec = precision_score(y_test,y_pred)\n",
    "print(prec)"
   ]
  },
  {
   "cell_type": "code",
   "execution_count": 24,
   "metadata": {},
   "outputs": [
    {
     "data": {
      "text/plain": [
       "0.9622641509433962"
      ]
     },
     "execution_count": 24,
     "metadata": {},
     "output_type": "execute_result"
    }
   ],
   "source": [
    "f= f1_score(y_test,y_pred)\n",
    "f"
   ]
  },
  {
   "cell_type": "code",
   "execution_count": 25,
   "metadata": {},
   "outputs": [],
   "source": [
    "def predict_spam(message):\n",
    "  message = transform_text(message)\n",
    "  message_tfidf = vectorizer.transform([message])\n",
    "  prediction = model.predict(message_tfidf)\n",
    "\n",
    "  if( prediction[0] == 1):\n",
    "    return 1\n",
    "  else:\n",
    "    return 0"
   ]
  },
  {
   "cell_type": "code",
   "execution_count": 26,
   "metadata": {},
   "outputs": [
    {
     "data": {
      "text/plain": [
       "1"
      ]
     },
     "execution_count": 26,
     "metadata": {},
     "output_type": "execute_result"
    }
   ],
   "source": [
    "predict_spam(\"Your mobile plan will expire soon. Renew now: http://340.auth-fix.com\")"
   ]
  },
  {
   "cell_type": "code",
   "execution_count": 27,
   "metadata": {},
   "outputs": [],
   "source": [
    "from sklearn.metrics import confusion_matrix\n",
    "import seaborn as sns\n",
    "import matplotlib.pyplot as plt"
   ]
  },
  {
   "cell_type": "code",
   "execution_count": 28,
   "metadata": {},
   "outputs": [
    {
     "data": {
      "image/png": "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",
      "text/plain": [
       "<Figure size 600x400 with 2 Axes>"
      ]
     },
     "metadata": {},
     "output_type": "display_data"
    }
   ],
   "source": [
    "cm = confusion_matrix(y_test, y_pred)\n",
    "plt.figure(figsize=(6,4))\n",
    "sns.heatmap(cm,annot=True, fmt ='d', cmap ='Blues', xticklabels=['Ham','Spam'])\n",
    "\n",
    "plt.xlabel('Predicted')\n",
    "plt.ylabel('Actual')\n",
    "plt.title('Confusion Matrix')\n",
    "plt.show()"
   ]
  },
  {
   "cell_type": "code",
   "execution_count": null,
   "metadata": {},
   "outputs": [],
   "source": [
    "import pickle\n",
    "pickle.dump(vectorizer,open('vectorizer.pkl','wb'))\n",
    "pickle.dump(model,open('model.pkl','wb'))"
   ]
  },
  {
   "cell_type": "code",
   "execution_count": null,
   "metadata": {},
   "outputs": [],
   "source": [
    "predict_spam(\"Had your mobile 11 months or more? U R entitled to Update to the latest colour mobiles with camera for Free! Call The Mobile Update Co FREE on 08002986030\")"
   ]
  },
  {
   "cell_type": "code",
   "execution_count": null,
   "metadata": {},
   "outputs": [],
   "source": []
  }
 ],
 "metadata": {
  "kernelspec": {
   "display_name": "Python 3",
   "language": "python",
   "name": "python3"
  },
  "language_info": {
   "codemirror_mode": {
    "name": "ipython",
    "version": 3
   },
   "file_extension": ".py",
   "mimetype": "text/x-python",
   "name": "python",
   "nbconvert_exporter": "python",
   "pygments_lexer": "ipython3",
   "version": "3.13.2"
  }
 },
 "nbformat": 4,
 "nbformat_minor": 2
}
=======
{
 "cells": [
  {
   "cell_type": "code",
   "execution_count": 1,
   "metadata": {},
   "outputs": [],
   "source": [
    "import pandas as pd"
   ]
  },
  {
   "cell_type": "code",
   "execution_count": 2,
   "metadata": {},
   "outputs": [
    {
     "data": {
      "text/html": [
       "<div>\n",
       "<style scoped>\n",
       "    .dataframe tbody tr th:only-of-type {\n",
       "        vertical-align: middle;\n",
       "    }\n",
       "\n",
       "    .dataframe tbody tr th {\n",
       "        vertical-align: top;\n",
       "    }\n",
       "\n",
       "    .dataframe thead th {\n",
       "        text-align: right;\n",
       "    }\n",
       "</style>\n",
       "<table border=\"1\" class=\"dataframe\">\n",
       "  <thead>\n",
       "    <tr style=\"text-align: right;\">\n",
       "      <th></th>\n",
       "      <th>Label</th>\n",
       "      <th>Message</th>\n",
       "    </tr>\n",
       "  </thead>\n",
       "  <tbody>\n",
       "    <tr>\n",
       "      <th>0</th>\n",
       "      <td>spam</td>\n",
       "      <td>Deposit 0.01 BTC and get 10x back instantly: h...</td>\n",
       "    </tr>\n",
       "    <tr>\n",
       "      <th>1</th>\n",
       "      <td>spam</td>\n",
       "      <td>Invoice #44312 needs payment today. See detail...</td>\n",
       "    </tr>\n",
       "    <tr>\n",
       "      <th>2</th>\n",
       "      <td>ham</td>\n",
       "      <td>Have you seen the updated incident response flow?</td>\n",
       "    </tr>\n",
       "    <tr>\n",
       "      <th>3</th>\n",
       "      <td>ham</td>\n",
       "      <td>Don't forget the phishing awareness webinar on...</td>\n",
       "    </tr>\n",
       "    <tr>\n",
       "      <th>4</th>\n",
       "      <td>ham</td>\n",
       "      <td>I'm uploading the Q1 security audit report now.</td>\n",
       "    </tr>\n",
       "  </tbody>\n",
       "</table>\n",
       "</div>"
      ],
      "text/plain": [
       "  Label                                            Message\n",
       "0  spam  Deposit 0.01 BTC and get 10x back instantly: h...\n",
       "1  spam  Invoice #44312 needs payment today. See detail...\n",
       "2   ham  Have you seen the updated incident response flow?\n",
       "3   ham  Don't forget the phishing awareness webinar on...\n",
       "4   ham    I'm uploading the Q1 security audit report now."
      ]
     },
     "execution_count": 2,
     "metadata": {},
     "output_type": "execute_result"
    }
   ],
   "source": [
    "df1= pd.read_csv(\"spam_cyber_crime.csv\")\n",
    "df2= pd.read_csv(\"spam.csv\")\n",
    "df= pd.concat([df1,df2],ignore_index=True)\n",
    "df.head()"
   ]
  },
  {
   "cell_type": "code",
   "execution_count": 3,
   "metadata": {},
   "outputs": [
    {
     "data": {
      "text/html": [
       "<div>\n",
       "<style scoped>\n",
       "    .dataframe tbody tr th:only-of-type {\n",
       "        vertical-align: middle;\n",
       "    }\n",
       "\n",
       "    .dataframe tbody tr th {\n",
       "        vertical-align: top;\n",
       "    }\n",
       "\n",
       "    .dataframe thead th {\n",
       "        text-align: right;\n",
       "    }\n",
       "</style>\n",
       "<table border=\"1\" class=\"dataframe\">\n",
       "  <thead>\n",
       "    <tr style=\"text-align: right;\">\n",
       "      <th></th>\n",
       "      <th>Label</th>\n",
       "      <th>Message</th>\n",
       "    </tr>\n",
       "  </thead>\n",
       "  <tbody>\n",
       "    <tr>\n",
       "      <th>0</th>\n",
       "      <td>1</td>\n",
       "      <td>Deposit 0.01 BTC and get 10x back instantly: h...</td>\n",
       "    </tr>\n",
       "    <tr>\n",
       "      <th>1</th>\n",
       "      <td>1</td>\n",
       "      <td>Invoice #44312 needs payment today. See detail...</td>\n",
       "    </tr>\n",
       "    <tr>\n",
       "      <th>2</th>\n",
       "      <td>0</td>\n",
       "      <td>Have you seen the updated incident response flow?</td>\n",
       "    </tr>\n",
       "    <tr>\n",
       "      <th>3</th>\n",
       "      <td>0</td>\n",
       "      <td>Don't forget the phishing awareness webinar on...</td>\n",
       "    </tr>\n",
       "    <tr>\n",
       "      <th>4</th>\n",
       "      <td>0</td>\n",
       "      <td>I'm uploading the Q1 security audit report now.</td>\n",
       "    </tr>\n",
       "  </tbody>\n",
       "</table>\n",
       "</div>"
      ],
      "text/plain": [
       "   Label                                            Message\n",
       "0      1  Deposit 0.01 BTC and get 10x back instantly: h...\n",
       "1      1  Invoice #44312 needs payment today. See detail...\n",
       "2      0  Have you seen the updated incident response flow?\n",
       "3      0  Don't forget the phishing awareness webinar on...\n",
       "4      0    I'm uploading the Q1 security audit report now."
      ]
     },
     "execution_count": 3,
     "metadata": {},
     "output_type": "execute_result"
    }
   ],
   "source": [
    "df['Label']= df['Label'].map({\"ham\":0,\"spam\":1})\n",
    "df.head()"
   ]
  },
  {
   "cell_type": "code",
   "execution_count": 4,
   "metadata": {},
   "outputs": [],
   "source": [
    "#pip install nltk"
   ]
  },
  {
   "cell_type": "code",
   "execution_count": 5,
   "metadata": {},
   "outputs": [
    {
     "name": "stderr",
     "output_type": "stream",
     "text": [
      "[nltk_data] Error loading punkt: <urlopen error [Errno 11001]\n",
      "[nltk_data]     getaddrinfo failed>\n",
      "[nltk_data] Error loading punkt_tab: <urlopen error [Errno 11001]\n",
      "[nltk_data]     getaddrinfo failed>\n",
      "[nltk_data] Error loading stopwords: <urlopen error [Errno 11001]\n",
      "[nltk_data]     getaddrinfo failed>\n",
      "[nltk_data] Error loading wordnet: <urlopen error [Errno 11001]\n",
      "[nltk_data]     getaddrinfo failed>\n"
     ]
    },
    {
     "data": {
      "text/plain": [
       "False"
      ]
     },
     "execution_count": 5,
     "metadata": {},
     "output_type": "execute_result"
    }
   ],
   "source": [
    "import nltk\n",
    "nltk.download('punkt')\n",
    "\n",
    "nltk.download('punkt_tab')\n",
    "\n",
    "nltk.download('stopwords')\n",
    "nltk.download('wordnet')\n"
   ]
  },
  {
   "cell_type": "code",
   "execution_count": 6,
   "metadata": {},
   "outputs": [
    {
     "data": {
      "text/plain": [
       "'write'"
      ]
     },
     "execution_count": 6,
     "metadata": {},
     "output_type": "execute_result"
    }
   ],
   "source": [
    "from nltk.tokenize import word_tokenize\n",
    "from nltk.corpus import stopwords\n",
    "from nltk.stem.porter import PorterStemmer\n",
    "ps=PorterStemmer()\n",
    "ps.stem(\"writing\")"
   ]
  },
  {
   "cell_type": "code",
   "execution_count": 7,
   "metadata": {},
   "outputs": [
    {
     "name": "stdout",
     "output_type": "stream",
     "text": [
      "['HELLO', '!', '!', 'I', 'am', 'Shreya', 'GOyal', ',', 're416']\n"
     ]
    }
   ],
   "source": [
    "token= word_tokenize(\"HELLO!! I am Shreya GOyal, re416\")\n",
    "print(token)"
   ]
  },
  {
   "cell_type": "code",
   "execution_count": 8,
   "metadata": {},
   "outputs": [
    {
     "name": "stdout",
     "output_type": "stream",
     "text": [
      "{'hasn', 'ourselves', 'whom', \"you'll\", \"weren't\", \"we'd\", 'myself', 'ma', \"that'll\", 'who', 'd', 'll', \"i'd\", 'an', 'in', \"we've\", 'again', 'do', 'are', 'where', 'through', 'then', 'by', 'i', 'shan', 'most', 'very', 'and', 'their', 'her', 'how', \"i'll\", 'don', 'no', 'such', 'me', 'nor', \"you'd\", \"wouldn't\", 'from', \"needn't\", 'should', 'your', 'some', \"he's\", \"it'll\", 's', 'm', \"she'll\", 'more', \"they'd\", 'above', \"we'll\", \"shouldn't\", \"you've\", \"we're\", 'doesn', 'ain', 'wasn', 'aren', \"wasn't\", 'had', 'to', 'does', 'under', 'what', 'as', 'than', 'at', 'for', \"mustn't\", 'the', 'further', 'with', 'doing', 'if', 'any', 'am', 'these', 'or', \"she'd\", \"don't\", 't', 'has', \"shan't\", 'yourselves', 'while', 'himself', 'down', 'theirs', 'themselves', 'mightn', 'it', 'a', 've', 'won', 'herself', 'she', 'o', 'them', 'can', 'of', 'ours', 'weren', 'so', \"hadn't\", \"she's\", 'my', 'was', \"it'd\", 'were', 'been', 'there', 'both', 'why', 'too', 'have', 'wouldn', 'about', 'didn', \"doesn't\", 'just', 'couldn', \"won't\", 'not', 'out', \"mightn't\", \"should've\", \"hasn't\", 'this', 'needn', 'its', 'own', 'shouldn', 'y', \"he'll\", 'we', 'before', 'be', 'against', \"they'll\", 'because', 'which', 'over', 'each', 'is', 'having', 'hers', 'until', \"isn't\", 'once', \"i'm\", 're', 'haven', 'all', \"they're\", \"couldn't\", \"it's\", 'during', 'did', 'now', 'yours', 'between', 'being', 'hadn', 'he', 'into', \"he'd\", 'off', 'but', 'on', 'other', 'our', 'that', \"they've\", \"haven't\", 'you', \"you're\", 'will', 'when', 'those', 'only', 'yourself', 'few', 'here', 'up', \"didn't\", \"i've\", 'after', 'his', 'isn', 'same', 'mustn', 'below', 'itself', 'they', \"aren't\", 'him'}\n"
     ]
    }
   ],
   "source": [
    "stop_words= set(stopwords.words(\"english\"))\n",
    "print(stop_words)\n"
   ]
  },
  {
   "cell_type": "code",
   "execution_count": 9,
   "metadata": {},
   "outputs": [
    {
     "data": {
      "text/plain": [
       "'!\"#$%&\\'()*+,-./:;<=>?@[\\\\]^_`{|}~'"
      ]
     },
     "execution_count": 9,
     "metadata": {},
     "output_type": "execute_result"
    }
   ],
   "source": [
    "import string\n",
    "string.punctuation"
   ]
  },
  {
   "cell_type": "code",
   "execution_count": 10,
   "metadata": {},
   "outputs": [
    {
     "data": {
      "text/plain": [
       "'hello shreya goyal write writer write re416'"
      ]
     },
     "execution_count": 10,
     "metadata": {},
     "output_type": "execute_result"
    }
   ],
   "source": [
    "\n",
    "def transform_text(text):\n",
    "    text= text.lower()\n",
    "    text= word_tokenize(text)\n",
    "\n",
    "    y=[]\n",
    "    for i in text:\n",
    "        if i.isalnum():\n",
    "            y.append(i)\n",
    "\n",
    "    text=y[:]\n",
    "    y.clear()\n",
    "\n",
    "    \n",
    "\n",
    "    for i in text:\n",
    "        if i not in stopwords.words('english') and i not in string.punctuation:\n",
    "            y.append(i)\n",
    "\n",
    "    text=y[:]\n",
    "    y.clear()\n",
    "\n",
    "    for i in text:\n",
    "        y.append(ps.stem(i))\n",
    "    \n",
    "    return \" \".join(y)\n",
    "    \n",
    "transform_text(\"HELLO!! I am Shreya GOyal writing writer writes, re416\")\n",
    "        "
   ]
  },
  {
   "cell_type": "code",
   "execution_count": 13,
   "metadata": {},
   "outputs": [],
   "source": [
    "#cleaning data"
   ]
  },
  {
   "cell_type": "code",
   "execution_count": 11,
   "metadata": {},
   "outputs": [],
   "source": [
    "df['Message']=df['Message'].apply(transform_text)"
   ]
  },
  {
   "cell_type": "code",
   "execution_count": 14,
   "metadata": {},
   "outputs": [],
   "source": [
    "from sklearn.model_selection import train_test_split\n",
    "x_train,x_test,y_train,y_test=train_test_split(df['Message'],df['Label'],test_size=0.2)"
   ]
  },
  {
   "cell_type": "code",
   "execution_count": 15,
   "metadata": {},
   "outputs": [
    {
     "name": "stdout",
     "output_type": "stream",
     "text": [
      "6085\n",
      "1522\n",
      "1522\n"
     ]
    }
   ],
   "source": [
    "print(len(x_train))\n",
    "print(len(x_test))\n",
    "print(len(y_test))\n"
   ]
  },
  {
   "cell_type": "code",
   "execution_count": 16,
   "metadata": {},
   "outputs": [
    {
     "data": {
      "text/plain": [
       "(6085, 5000)"
      ]
     },
     "execution_count": 16,
     "metadata": {},
     "output_type": "execute_result"
    }
   ],
   "source": [
    "from sklearn.feature_extraction.text import TfidfVectorizer\n",
    "vectorizer = TfidfVectorizer(max_features=5000)\n",
    "x_train_tfidf= vectorizer.fit_transform(x_train)\n",
    "x_train_tfidf.shape"
   ]
  },
  {
   "cell_type": "code",
   "execution_count": 17,
   "metadata": {},
   "outputs": [
    {
     "data": {
      "text/plain": [
       "(1522, 5000)"
      ]
     },
     "execution_count": 17,
     "metadata": {},
     "output_type": "execute_result"
    }
   ],
   "source": [
    "x_test_tfidf= vectorizer.transform(x_test)\n",
    "x_test_tfidf.shape"
   ]
  },
  {
   "cell_type": "code",
   "execution_count": 18,
   "metadata": {},
   "outputs": [],
   "source": [
    "from sklearn.linear_model import LogisticRegression\n",
    "model= LogisticRegression()"
   ]
  },
  {
   "cell_type": "code",
   "execution_count": 19,
   "metadata": {},
   "outputs": [
    {
     "data": {
      "text/html": [
       "<style>#sk-container-id-1 {\n",
       "  /* Definition of color scheme common for light and dark mode */\n",
       "  --sklearn-color-text: #000;\n",
       "  --sklearn-color-text-muted: #666;\n",
       "  --sklearn-color-line: gray;\n",
       "  /* Definition of color scheme for unfitted estimators */\n",
       "  --sklearn-color-unfitted-level-0: #fff5e6;\n",
       "  --sklearn-color-unfitted-level-1: #f6e4d2;\n",
       "  --sklearn-color-unfitted-level-2: #ffe0b3;\n",
       "  --sklearn-color-unfitted-level-3: chocolate;\n",
       "  /* Definition of color scheme for fitted estimators */\n",
       "  --sklearn-color-fitted-level-0: #f0f8ff;\n",
       "  --sklearn-color-fitted-level-1: #d4ebff;\n",
       "  --sklearn-color-fitted-level-2: #b3dbfd;\n",
       "  --sklearn-color-fitted-level-3: cornflowerblue;\n",
       "\n",
       "  /* Specific color for light theme */\n",
       "  --sklearn-color-text-on-default-background: var(--sg-text-color, var(--theme-code-foreground, var(--jp-content-font-color1, black)));\n",
       "  --sklearn-color-background: var(--sg-background-color, var(--theme-background, var(--jp-layout-color0, white)));\n",
       "  --sklearn-color-border-box: var(--sg-text-color, var(--theme-code-foreground, var(--jp-content-font-color1, black)));\n",
       "  --sklearn-color-icon: #696969;\n",
       "\n",
       "  @media (prefers-color-scheme: dark) {\n",
       "    /* Redefinition of color scheme for dark theme */\n",
       "    --sklearn-color-text-on-default-background: var(--sg-text-color, var(--theme-code-foreground, var(--jp-content-font-color1, white)));\n",
       "    --sklearn-color-background: var(--sg-background-color, var(--theme-background, var(--jp-layout-color0, #111)));\n",
       "    --sklearn-color-border-box: var(--sg-text-color, var(--theme-code-foreground, var(--jp-content-font-color1, white)));\n",
       "    --sklearn-color-icon: #878787;\n",
       "  }\n",
       "}\n",
       "\n",
       "#sk-container-id-1 {\n",
       "  color: var(--sklearn-color-text);\n",
       "}\n",
       "\n",
       "#sk-container-id-1 pre {\n",
       "  padding: 0;\n",
       "}\n",
       "\n",
       "#sk-container-id-1 input.sk-hidden--visually {\n",
       "  border: 0;\n",
       "  clip: rect(1px 1px 1px 1px);\n",
       "  clip: rect(1px, 1px, 1px, 1px);\n",
       "  height: 1px;\n",
       "  margin: -1px;\n",
       "  overflow: hidden;\n",
       "  padding: 0;\n",
       "  position: absolute;\n",
       "  width: 1px;\n",
       "}\n",
       "\n",
       "#sk-container-id-1 div.sk-dashed-wrapped {\n",
       "  border: 1px dashed var(--sklearn-color-line);\n",
       "  margin: 0 0.4em 0.5em 0.4em;\n",
       "  box-sizing: border-box;\n",
       "  padding-bottom: 0.4em;\n",
       "  background-color: var(--sklearn-color-background);\n",
       "}\n",
       "\n",
       "#sk-container-id-1 div.sk-container {\n",
       "  /* jupyter's `normalize.less` sets `[hidden] { display: none; }`\n",
       "     but bootstrap.min.css set `[hidden] { display: none !important; }`\n",
       "     so we also need the `!important` here to be able to override the\n",
       "     default hidden behavior on the sphinx rendered scikit-learn.org.\n",
       "     See: https://github.com/scikit-learn/scikit-learn/issues/21755 */\n",
       "  display: inline-block !important;\n",
       "  position: relative;\n",
       "}\n",
       "\n",
       "#sk-container-id-1 div.sk-text-repr-fallback {\n",
       "  display: none;\n",
       "}\n",
       "\n",
       "div.sk-parallel-item,\n",
       "div.sk-serial,\n",
       "div.sk-item {\n",
       "  /* draw centered vertical line to link estimators */\n",
       "  background-image: linear-gradient(var(--sklearn-color-text-on-default-background), var(--sklearn-color-text-on-default-background));\n",
       "  background-size: 2px 100%;\n",
       "  background-repeat: no-repeat;\n",
       "  background-position: center center;\n",
       "}\n",
       "\n",
       "/* Parallel-specific style estimator block */\n",
       "\n",
       "#sk-container-id-1 div.sk-parallel-item::after {\n",
       "  content: \"\";\n",
       "  width: 100%;\n",
       "  border-bottom: 2px solid var(--sklearn-color-text-on-default-background);\n",
       "  flex-grow: 1;\n",
       "}\n",
       "\n",
       "#sk-container-id-1 div.sk-parallel {\n",
       "  display: flex;\n",
       "  align-items: stretch;\n",
       "  justify-content: center;\n",
       "  background-color: var(--sklearn-color-background);\n",
       "  position: relative;\n",
       "}\n",
       "\n",
       "#sk-container-id-1 div.sk-parallel-item {\n",
       "  display: flex;\n",
       "  flex-direction: column;\n",
       "}\n",
       "\n",
       "#sk-container-id-1 div.sk-parallel-item:first-child::after {\n",
       "  align-self: flex-end;\n",
       "  width: 50%;\n",
       "}\n",
       "\n",
       "#sk-container-id-1 div.sk-parallel-item:last-child::after {\n",
       "  align-self: flex-start;\n",
       "  width: 50%;\n",
       "}\n",
       "\n",
       "#sk-container-id-1 div.sk-parallel-item:only-child::after {\n",
       "  width: 0;\n",
       "}\n",
       "\n",
       "/* Serial-specific style estimator block */\n",
       "\n",
       "#sk-container-id-1 div.sk-serial {\n",
       "  display: flex;\n",
       "  flex-direction: column;\n",
       "  align-items: center;\n",
       "  background-color: var(--sklearn-color-background);\n",
       "  padding-right: 1em;\n",
       "  padding-left: 1em;\n",
       "}\n",
       "\n",
       "\n",
       "/* Toggleable style: style used for estimator/Pipeline/ColumnTransformer box that is\n",
       "clickable and can be expanded/collapsed.\n",
       "- Pipeline and ColumnTransformer use this feature and define the default style\n",
       "- Estimators will overwrite some part of the style using the `sk-estimator` class\n",
       "*/\n",
       "\n",
       "/* Pipeline and ColumnTransformer style (default) */\n",
       "\n",
       "#sk-container-id-1 div.sk-toggleable {\n",
       "  /* Default theme specific background. It is overwritten whether we have a\n",
       "  specific estimator or a Pipeline/ColumnTransformer */\n",
       "  background-color: var(--sklearn-color-background);\n",
       "}\n",
       "\n",
       "/* Toggleable label */\n",
       "#sk-container-id-1 label.sk-toggleable__label {\n",
       "  cursor: pointer;\n",
       "  display: flex;\n",
       "  width: 100%;\n",
       "  margin-bottom: 0;\n",
       "  padding: 0.5em;\n",
       "  box-sizing: border-box;\n",
       "  text-align: center;\n",
       "  align-items: start;\n",
       "  justify-content: space-between;\n",
       "  gap: 0.5em;\n",
       "}\n",
       "\n",
       "#sk-container-id-1 label.sk-toggleable__label .caption {\n",
       "  font-size: 0.6rem;\n",
       "  font-weight: lighter;\n",
       "  color: var(--sklearn-color-text-muted);\n",
       "}\n",
       "\n",
       "#sk-container-id-1 label.sk-toggleable__label-arrow:before {\n",
       "  /* Arrow on the left of the label */\n",
       "  content: \"▸\";\n",
       "  float: left;\n",
       "  margin-right: 0.25em;\n",
       "  color: var(--sklearn-color-icon);\n",
       "}\n",
       "\n",
       "#sk-container-id-1 label.sk-toggleable__label-arrow:hover:before {\n",
       "  color: var(--sklearn-color-text);\n",
       "}\n",
       "\n",
       "/* Toggleable content - dropdown */\n",
       "\n",
       "#sk-container-id-1 div.sk-toggleable__content {\n",
       "  max-height: 0;\n",
       "  max-width: 0;\n",
       "  overflow: hidden;\n",
       "  text-align: left;\n",
       "  /* unfitted */\n",
       "  background-color: var(--sklearn-color-unfitted-level-0);\n",
       "}\n",
       "\n",
       "#sk-container-id-1 div.sk-toggleable__content.fitted {\n",
       "  /* fitted */\n",
       "  background-color: var(--sklearn-color-fitted-level-0);\n",
       "}\n",
       "\n",
       "#sk-container-id-1 div.sk-toggleable__content pre {\n",
       "  margin: 0.2em;\n",
       "  border-radius: 0.25em;\n",
       "  color: var(--sklearn-color-text);\n",
       "  /* unfitted */\n",
       "  background-color: var(--sklearn-color-unfitted-level-0);\n",
       "}\n",
       "\n",
       "#sk-container-id-1 div.sk-toggleable__content.fitted pre {\n",
       "  /* unfitted */\n",
       "  background-color: var(--sklearn-color-fitted-level-0);\n",
       "}\n",
       "\n",
       "#sk-container-id-1 input.sk-toggleable__control:checked~div.sk-toggleable__content {\n",
       "  /* Expand drop-down */\n",
       "  max-height: 200px;\n",
       "  max-width: 100%;\n",
       "  overflow: auto;\n",
       "}\n",
       "\n",
       "#sk-container-id-1 input.sk-toggleable__control:checked~label.sk-toggleable__label-arrow:before {\n",
       "  content: \"▾\";\n",
       "}\n",
       "\n",
       "/* Pipeline/ColumnTransformer-specific style */\n",
       "\n",
       "#sk-container-id-1 div.sk-label input.sk-toggleable__control:checked~label.sk-toggleable__label {\n",
       "  color: var(--sklearn-color-text);\n",
       "  background-color: var(--sklearn-color-unfitted-level-2);\n",
       "}\n",
       "\n",
       "#sk-container-id-1 div.sk-label.fitted input.sk-toggleable__control:checked~label.sk-toggleable__label {\n",
       "  background-color: var(--sklearn-color-fitted-level-2);\n",
       "}\n",
       "\n",
       "/* Estimator-specific style */\n",
       "\n",
       "/* Colorize estimator box */\n",
       "#sk-container-id-1 div.sk-estimator input.sk-toggleable__control:checked~label.sk-toggleable__label {\n",
       "  /* unfitted */\n",
       "  background-color: var(--sklearn-color-unfitted-level-2);\n",
       "}\n",
       "\n",
       "#sk-container-id-1 div.sk-estimator.fitted input.sk-toggleable__control:checked~label.sk-toggleable__label {\n",
       "  /* fitted */\n",
       "  background-color: var(--sklearn-color-fitted-level-2);\n",
       "}\n",
       "\n",
       "#sk-container-id-1 div.sk-label label.sk-toggleable__label,\n",
       "#sk-container-id-1 div.sk-label label {\n",
       "  /* The background is the default theme color */\n",
       "  color: var(--sklearn-color-text-on-default-background);\n",
       "}\n",
       "\n",
       "/* On hover, darken the color of the background */\n",
       "#sk-container-id-1 div.sk-label:hover label.sk-toggleable__label {\n",
       "  color: var(--sklearn-color-text);\n",
       "  background-color: var(--sklearn-color-unfitted-level-2);\n",
       "}\n",
       "\n",
       "/* Label box, darken color on hover, fitted */\n",
       "#sk-container-id-1 div.sk-label.fitted:hover label.sk-toggleable__label.fitted {\n",
       "  color: var(--sklearn-color-text);\n",
       "  background-color: var(--sklearn-color-fitted-level-2);\n",
       "}\n",
       "\n",
       "/* Estimator label */\n",
       "\n",
       "#sk-container-id-1 div.sk-label label {\n",
       "  font-family: monospace;\n",
       "  font-weight: bold;\n",
       "  display: inline-block;\n",
       "  line-height: 1.2em;\n",
       "}\n",
       "\n",
       "#sk-container-id-1 div.sk-label-container {\n",
       "  text-align: center;\n",
       "}\n",
       "\n",
       "/* Estimator-specific */\n",
       "#sk-container-id-1 div.sk-estimator {\n",
       "  font-family: monospace;\n",
       "  border: 1px dotted var(--sklearn-color-border-box);\n",
       "  border-radius: 0.25em;\n",
       "  box-sizing: border-box;\n",
       "  margin-bottom: 0.5em;\n",
       "  /* unfitted */\n",
       "  background-color: var(--sklearn-color-unfitted-level-0);\n",
       "}\n",
       "\n",
       "#sk-container-id-1 div.sk-estimator.fitted {\n",
       "  /* fitted */\n",
       "  background-color: var(--sklearn-color-fitted-level-0);\n",
       "}\n",
       "\n",
       "/* on hover */\n",
       "#sk-container-id-1 div.sk-estimator:hover {\n",
       "  /* unfitted */\n",
       "  background-color: var(--sklearn-color-unfitted-level-2);\n",
       "}\n",
       "\n",
       "#sk-container-id-1 div.sk-estimator.fitted:hover {\n",
       "  /* fitted */\n",
       "  background-color: var(--sklearn-color-fitted-level-2);\n",
       "}\n",
       "\n",
       "/* Specification for estimator info (e.g. \"i\" and \"?\") */\n",
       "\n",
       "/* Common style for \"i\" and \"?\" */\n",
       "\n",
       ".sk-estimator-doc-link,\n",
       "a:link.sk-estimator-doc-link,\n",
       "a:visited.sk-estimator-doc-link {\n",
       "  float: right;\n",
       "  font-size: smaller;\n",
       "  line-height: 1em;\n",
       "  font-family: monospace;\n",
       "  background-color: var(--sklearn-color-background);\n",
       "  border-radius: 1em;\n",
       "  height: 1em;\n",
       "  width: 1em;\n",
       "  text-decoration: none !important;\n",
       "  margin-left: 0.5em;\n",
       "  text-align: center;\n",
       "  /* unfitted */\n",
       "  border: var(--sklearn-color-unfitted-level-1) 1pt solid;\n",
       "  color: var(--sklearn-color-unfitted-level-1);\n",
       "}\n",
       "\n",
       ".sk-estimator-doc-link.fitted,\n",
       "a:link.sk-estimator-doc-link.fitted,\n",
       "a:visited.sk-estimator-doc-link.fitted {\n",
       "  /* fitted */\n",
       "  border: var(--sklearn-color-fitted-level-1) 1pt solid;\n",
       "  color: var(--sklearn-color-fitted-level-1);\n",
       "}\n",
       "\n",
       "/* On hover */\n",
       "div.sk-estimator:hover .sk-estimator-doc-link:hover,\n",
       ".sk-estimator-doc-link:hover,\n",
       "div.sk-label-container:hover .sk-estimator-doc-link:hover,\n",
       ".sk-estimator-doc-link:hover {\n",
       "  /* unfitted */\n",
       "  background-color: var(--sklearn-color-unfitted-level-3);\n",
       "  color: var(--sklearn-color-background);\n",
       "  text-decoration: none;\n",
       "}\n",
       "\n",
       "div.sk-estimator.fitted:hover .sk-estimator-doc-link.fitted:hover,\n",
       ".sk-estimator-doc-link.fitted:hover,\n",
       "div.sk-label-container:hover .sk-estimator-doc-link.fitted:hover,\n",
       ".sk-estimator-doc-link.fitted:hover {\n",
       "  /* fitted */\n",
       "  background-color: var(--sklearn-color-fitted-level-3);\n",
       "  color: var(--sklearn-color-background);\n",
       "  text-decoration: none;\n",
       "}\n",
       "\n",
       "/* Span, style for the box shown on hovering the info icon */\n",
       ".sk-estimator-doc-link span {\n",
       "  display: none;\n",
       "  z-index: 9999;\n",
       "  position: relative;\n",
       "  font-weight: normal;\n",
       "  right: .2ex;\n",
       "  padding: .5ex;\n",
       "  margin: .5ex;\n",
       "  width: min-content;\n",
       "  min-width: 20ex;\n",
       "  max-width: 50ex;\n",
       "  color: var(--sklearn-color-text);\n",
       "  box-shadow: 2pt 2pt 4pt #999;\n",
       "  /* unfitted */\n",
       "  background: var(--sklearn-color-unfitted-level-0);\n",
       "  border: .5pt solid var(--sklearn-color-unfitted-level-3);\n",
       "}\n",
       "\n",
       ".sk-estimator-doc-link.fitted span {\n",
       "  /* fitted */\n",
       "  background: var(--sklearn-color-fitted-level-0);\n",
       "  border: var(--sklearn-color-fitted-level-3);\n",
       "}\n",
       "\n",
       ".sk-estimator-doc-link:hover span {\n",
       "  display: block;\n",
       "}\n",
       "\n",
       "/* \"?\"-specific style due to the `<a>` HTML tag */\n",
       "\n",
       "#sk-container-id-1 a.estimator_doc_link {\n",
       "  float: right;\n",
       "  font-size: 1rem;\n",
       "  line-height: 1em;\n",
       "  font-family: monospace;\n",
       "  background-color: var(--sklearn-color-background);\n",
       "  border-radius: 1rem;\n",
       "  height: 1rem;\n",
       "  width: 1rem;\n",
       "  text-decoration: none;\n",
       "  /* unfitted */\n",
       "  color: var(--sklearn-color-unfitted-level-1);\n",
       "  border: var(--sklearn-color-unfitted-level-1) 1pt solid;\n",
       "}\n",
       "\n",
       "#sk-container-id-1 a.estimator_doc_link.fitted {\n",
       "  /* fitted */\n",
       "  border: var(--sklearn-color-fitted-level-1) 1pt solid;\n",
       "  color: var(--sklearn-color-fitted-level-1);\n",
       "}\n",
       "\n",
       "/* On hover */\n",
       "#sk-container-id-1 a.estimator_doc_link:hover {\n",
       "  /* unfitted */\n",
       "  background-color: var(--sklearn-color-unfitted-level-3);\n",
       "  color: var(--sklearn-color-background);\n",
       "  text-decoration: none;\n",
       "}\n",
       "\n",
       "#sk-container-id-1 a.estimator_doc_link.fitted:hover {\n",
       "  /* fitted */\n",
       "  background-color: var(--sklearn-color-fitted-level-3);\n",
       "}\n",
       "</style><div id=\"sk-container-id-1\" class=\"sk-top-container\"><div class=\"sk-text-repr-fallback\"><pre>LogisticRegression()</pre><b>In a Jupyter environment, please rerun this cell to show the HTML representation or trust the notebook. <br />On GitHub, the HTML representation is unable to render, please try loading this page with nbviewer.org.</b></div><div class=\"sk-container\" hidden><div class=\"sk-item\"><div class=\"sk-estimator fitted sk-toggleable\"><input class=\"sk-toggleable__control sk-hidden--visually\" id=\"sk-estimator-id-1\" type=\"checkbox\" checked><label for=\"sk-estimator-id-1\" class=\"sk-toggleable__label fitted sk-toggleable__label-arrow\"><div><div>LogisticRegression</div></div><div><a class=\"sk-estimator-doc-link fitted\" rel=\"noreferrer\" target=\"_blank\" href=\"https://scikit-learn.org/1.6/modules/generated/sklearn.linear_model.LogisticRegression.html\">?<span>Documentation for LogisticRegression</span></a><span class=\"sk-estimator-doc-link fitted\">i<span>Fitted</span></span></div></label><div class=\"sk-toggleable__content fitted\"><pre>LogisticRegression()</pre></div> </div></div></div></div>"
      ],
      "text/plain": [
       "LogisticRegression()"
      ]
     },
     "execution_count": 19,
     "metadata": {},
     "output_type": "execute_result"
    }
   ],
   "source": [
    "model.fit(x_train_tfidf,y_train)"
   ]
  },
  {
   "cell_type": "code",
   "execution_count": 20,
   "metadata": {},
   "outputs": [],
   "source": [
    "y_pred=model.predict(x_test_tfidf)"
   ]
  },
  {
   "cell_type": "code",
   "execution_count": 21,
   "metadata": {},
   "outputs": [],
   "source": [
    "from sklearn.metrics import accuracy_score, precision_score, f1_score, recall_score\n"
   ]
  },
  {
   "cell_type": "code",
   "execution_count": 22,
   "metadata": {},
   "outputs": [
    {
     "name": "stdout",
     "output_type": "stream",
     "text": [
      "0.9776609724047306\n"
     ]
    }
   ],
   "source": [
    "accuracy= accuracy_score(y_test,y_pred)\n",
    "print(accuracy)"
   ]
  },
  {
   "cell_type": "code",
   "execution_count": 23,
   "metadata": {},
   "outputs": [
    {
     "name": "stdout",
     "output_type": "stream",
     "text": [
      "0.9073033707865169\n"
     ]
    }
   ],
   "source": [
    "recall = recall_score(y_test,y_pred)\n",
    "print(recall)"
   ]
  },
  {
   "cell_type": "code",
   "execution_count": 24,
   "metadata": {},
   "outputs": [
    {
     "name": "stdout",
     "output_type": "stream",
     "text": [
      "0.9969135802469136\n"
     ]
    }
   ],
   "source": [
    "prec = precision_score(y_test,y_pred)\n",
    "print(prec)"
   ]
  },
  {
   "cell_type": "code",
   "execution_count": 25,
   "metadata": {},
   "outputs": [
    {
     "data": {
      "text/plain": [
       "0.95"
      ]
     },
     "execution_count": 25,
     "metadata": {},
     "output_type": "execute_result"
    }
   ],
   "source": [
    "f= f1_score(y_test,y_pred)\n",
    "f"
   ]
  },
  {
   "cell_type": "code",
   "execution_count": 26,
   "metadata": {},
   "outputs": [],
   "source": [
    "def predict_spam(message):\n",
    "  message = transform_text(message)\n",
    "  message_tfidf = vectorizer.transform([message])\n",
    "  prediction = model.predict(message_tfidf)\n",
    "\n",
    "  if( prediction[0] == 1):\n",
    "    return 1\n",
    "  else:\n",
    "    return 0"
   ]
  },
  {
   "cell_type": "code",
   "execution_count": 27,
   "metadata": {},
   "outputs": [
    {
     "data": {
      "text/plain": [
       "1"
      ]
     },
     "execution_count": 27,
     "metadata": {},
     "output_type": "execute_result"
    }
   ],
   "source": [
    "predict_spam(\"Your mobile plan will expire soon. Renew now: http://340.auth-fix.com\")"
   ]
  },
  {
   "cell_type": "code",
   "execution_count": 28,
   "metadata": {},
   "outputs": [],
   "source": [
    "from sklearn.metrics import confusion_matrix\n",
    "import seaborn as sns\n",
    "import matplotlib.pyplot as plt"
   ]
  },
  {
   "cell_type": "code",
   "execution_count": 29,
   "metadata": {},
   "outputs": [
    {
     "data": {
      "image/png": "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",
      "text/plain": [
       "<Figure size 600x400 with 2 Axes>"
      ]
     },
     "metadata": {},
     "output_type": "display_data"
    }
   ],
   "source": [
    "cm = confusion_matrix(y_test, y_pred)\n",
    "plt.figure(figsize=(6,4))\n",
    "sns.heatmap(cm,annot=True, fmt ='d', cmap ='Blues', xticklabels=['Ham','Spam'])\n",
    "\n",
    "plt.xlabel('Predicted')\n",
    "plt.ylabel('Actual')\n",
    "plt.title('Confusion Matrix')\n",
    "plt.show()"
   ]
  },
  {
   "cell_type": "code",
   "execution_count": 32,
   "metadata": {},
   "outputs": [],
   "source": [
    "import pickle\n",
    "pickle.dump(vectorizer,open('vectorizer.pkl','wb'))\n",
    "pickle.dump(model,open('model.pkl','wb'))"
   ]
  },
  {
   "cell_type": "code",
   "execution_count": 34,
   "metadata": {},
   "outputs": [
    {
     "data": {
      "text/plain": [
       "1"
      ]
     },
     "execution_count": 34,
     "metadata": {},
     "output_type": "execute_result"
    }
   ],
   "source": [
    "predict_spam(\"Had your mobile 11 months or more? U R entitled to Update to the latest colour mobiles with camera for Free! Call The Mobile Update Co FREE on 08002986030\")"
   ]
  },
  {
   "cell_type": "code",
   "execution_count": null,
   "metadata": {},
   "outputs": [],
   "source": []
  }
 ],
 "metadata": {
  "kernelspec": {
   "display_name": "Python 3",
   "language": "python",
   "name": "python3"
  },
  "language_info": {
   "codemirror_mode": {
    "name": "ipython",
    "version": 3
   },
   "file_extension": ".py",
   "mimetype": "text/x-python",
   "name": "python",
   "nbconvert_exporter": "python",
   "pygments_lexer": "ipython3",
   "version": "3.13.2"
  }
 },
 "nbformat": 4,
 "nbformat_minor": 2
}
>>>>>>> 6bad417a32db827849b548c6e65a3763915a28a7
